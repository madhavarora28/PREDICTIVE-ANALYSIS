
{
 "cells": [
  {
   "cell_type": "markdown",
   "metadata": {},
   "source": [
    "# 📈 Tesla Stock Forecasting (2014–2023) Using ARIMA & SARIMA"
   ]
  },
  {
   "cell_type": "code",
   "execution_count": null,
   "metadata": {},
   "outputs": [],
   "source": [
    "import pandas as pd\n",
    "import matplotlib.pyplot as plt\n",
    "from statsmodels.tsa.stattools import adfuller\n",
    "from statsmodels.graphics.tsaplots import plot_acf, plot_pacf\n",
    "from statsmodels.tsa.arima.model import ARIMA\n",
    "from statsmodels.tsa.statespace.sarimax import SARIMAX"
   ]
  },
  {
   "cell_type": "code",
   "execution_count": null,
   "metadata": {},
   "outputs": [],
   "source": [
    "# Load Tesla dataset\n",
    "df = pd.read_csv('tsla_2014_2023.csv', parse_dates=['Date'])\n",
    "df.set_index('Date', inplace=True)\n",
    "df = df[['Close']]\n",
    "df = df.asfreq('B')  # Business day frequency\n",
    "df = df.fillna(method='ffill')\n",
    "df.plot(title='Tesla Stock Price (2014–2023)', figsize=(10,5))\n",
    "plt.ylabel('Closing Price ($)')\n",
    "plt.show()"
   ]
  },
  {
   "cell_type": "code",
   "execution_count": null,
   "metadata": {},
   "outputs": [],
   "source": [
    "# ADF test for stationarity\n",
    "result = adfuller(df['Close'])\n",
    "print(f'ADF Statistic: {result[0]}')\n",
    "print(f'p-value: {result[1]}')\n",
    "df_diff = df.diff().dropna()\n",
    "df_diff.plot(title='Differenced Tesla Stock Prices')\n",
    "plt.show()"
   ]
  },
  {
   "cell_type": "code",
   "execution_count": null,
   "metadata": {},
   "outputs": [],
   "source": [
    "# ACF and PACF plots\n",
    "plot_acf(df_diff)\n",
    "plt.show()\n",
    "plot_pacf(df_diff)\n",
    "plt.show()"
   ]
  },
  {
   "cell_type": "code",
   "execution_count": null,
   "metadata": {},
   "outputs": [],
   "source": [
    "# ARIMA model\n",
    "model_arima = ARIMA(df['Close'], order=(1,1,1))\n",
    "result_arima = model_arima.fit()\n",
    "print(result_arima.summary())\n",
    "result_arima.plot_predict(dynamic=False)\n",
    "plt.show()"
   ]
  },
  {
   "cell_type": "code",
   "execution_count": null,
   "metadata": {},
   "outputs": [],
   "source": [
    "# SARIMA model\n",
    "model_sarima = SARIMAX(df['Close'], order=(1,1,1), seasonal_order=(1,1,1,252))\n",
    "result_sarima = model_sarima.fit()\n",
    "print(result_sarima.summary())\n",
    "result_sarima.plot_diagnostics(figsize=(12,6))\n",
    "plt.show()"
   ]
  },
  {
   "cell_type": "code",
   "execution_count": null,
   "metadata": {},
   "outputs": [],
   "source": [
    "# Forecast next 30 days\n",
    "forecast = result_sarima.get_forecast(steps=30)\n",
    "forecast_ci = forecast.conf_int()\n",
    "forecast.predicted_mean.plot(label='Forecast')\n",
    "df['Close'].plot(label='Observed')\n",
    "plt.fill_between(forecast_ci.index, forecast_ci.iloc[:, 0], forecast_ci.iloc[:, 1],\n",
    "                 color='lightblue', alpha=0.3)\n",
    "plt.title('Tesla Stock Price Forecast (Next 30 Days)')\n",
    "plt.legend()\n",
    "plt.show()"
   ]
  }
 ],
 "metadata": {
  "kernelspec": {
   "display_name": "Python 3",
   "language": "python",
   "name": "python3"
  },
  "language_info": {
   "name": "python",
   "version": "3.10"
  }
 },
 "nbformat": 4,
 "nbformat_minor": 2
}
